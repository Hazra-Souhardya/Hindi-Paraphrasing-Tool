{
 "cells": [
  {
   "cell_type": "code",
   "execution_count": 1,
   "id": "d0057ae6",
   "metadata": {},
   "outputs": [
    {
     "name": "stdout",
     "output_type": "stream",
     "text": [
      "Enter a paragraph in Hindi: इसकी वजह से गधा बहुत ही खुश था। अब फिर गधा रोज वही चाल चलने लगा, इससे नमक बेचने वाले को काफ़ी नुक़सान उठाना पड़ता।  नमक बेचने वाले को गधे की चाल समझ में आ गई और उसने उसे सबक सीखाने का फैसला किया। अगले दिन उसने गधे पर एक रुई से भरा थैला लाद दिया।  अब गधे ने फिर से वही चाल चली। उसे उम्मीद थी कि रुई का थैला अभी भी हल्का हो जाएगा।\n"
     ]
    },
    {
     "name": "stderr",
     "output_type": "stream",
     "text": [
      "INFO:root:Translating text to English: इसकी वजह से गधा बहुत ही खुश था। अब फिर गधा रोज वही चाल चलने लगा, इससे नमक बेचने वाले को काफ़ी नुक़सान उठाना पड़ता।  नमक बेचने वाले को गधे की चाल समझ में आ गई और उसने उसे सबक सीखाने का फैसला किया। अगले दिन उसने गधे पर एक रुई से भरा थैला लाद दिया।  अब गधे ने फिर से वही चाल चली। उसे उम्मीद थी कि रुई का थैला अभी भी हल्का हो जाएगा।\n",
      "INFO:root:Translating text to hindi: Because of this the donkey was very happy.Now again the donkey started moving the same trick every day, due to which the selling salt sellers would have to suffer a lot.The salt seller understood the asset of the donkey and decided to teach him a lesson.The next day he loaded a bag full of cotton on the donkey.Now the donkey again did the same trick.He hoped that the cotton bag would still be lighter.\n"
     ]
    },
    {
     "name": "stdout",
     "output_type": "stream",
     "text": [
      "\n",
      "Original Paragraph:  इसकी वजह से गधा बहुत ही खुश था। अब फिर गधा रोज वही चाल चलने लगा, इससे नमक बेचने वाले को काफ़ी नुक़सान उठाना पड़ता।  नमक बेचने वाले को गधे की चाल समझ में आ गई और उसने उसे सबक सीखाने का फैसला किया। अगले दिन उसने गधे पर एक रुई से भरा थैला लाद दिया।  अब गधे ने फिर से वही चाल चली। उसे उम्मीद थी कि रुई का थैला अभी भी हल्का हो जाएगा।\n",
      "\n",
      "Paraphrased Paragraph:  इस वजह से गधा बहुत खुश था। फिर से फिर से गधे ने हर दिन एक ही चाल को आगे बढ़ाना शुरू कर दिया, जिसके कारण नमक के विक्रेताओं को बहुत नुकसान उठाना पड़ेगा। नमक विक्रेता ने गधे की संपत्ति को समझा और उसे सिखाने का फैसला कियासबक। अगले दिन उसने गधे पर कपास से भरा एक बैग लोड किया। अब गधे ने फिर से एक ही ट्रिक किया। उसे उम्मीद थी कि कपास बैग अभी भी हल्का होगा।\n"
     ]
    }
   ],
   "source": [
    "import logging\n",
    "import requests\n",
    "from googletrans import Translator, LANGUAGES\n",
    "\n",
    "# set up logging\n",
    "logging.basicConfig(level=logging.INFO)\n",
    "\n",
    "def get_paraphrase(text, src='hi', dest='hi'):\n",
    "    \"\"\"\n",
    "    Uses the Google Translate API to paraphrase a given text.\n",
    "    \"\"\"\n",
    "    # set up translator\n",
    "    translator = Translator()\n",
    "\n",
    "    # translate text to English\n",
    "    logging.info(f\"Translating text to English: {text}\")\n",
    "    eng_text = translator.translate(text, src=src, dest='en').text\n",
    "\n",
    "    # translate English text to destination language\n",
    "    logging.info(f\"Translating text to {LANGUAGES[dest]}: {eng_text}\")\n",
    "    paraphrase = translator.translate(eng_text, src='en', dest=dest).text\n",
    "\n",
    "    return paraphrase\n",
    "\n",
    "if __name__ == '__main__':\n",
    "    # get input paragraph\n",
    "    input_paragraph = input(\"Enter a paragraph in Hindi: \")\n",
    "\n",
    "    try:\n",
    "        # get paraphrase using Google Translate API\n",
    "        paraphrase = get_paraphrase(input_paragraph)\n",
    "\n",
    "        # print original paragraph and paraphrase\n",
    "        print(\"\\nOriginal Paragraph: \", input_paragraph)\n",
    "        print(\"\\nParaphrased Paragraph: \", paraphrase)\n",
    "\n",
    "    except requests.exceptions.RequestException as e:\n",
    "        # log error and exit\n",
    "        logging.error(f\"Error: {e}\")\n",
    "        print(\"An error occurred. Please try again later.\")\n",
    "        exit(1)"
   ]
  },
  {
   "cell_type": "code",
   "execution_count": null,
   "id": "9c9aac70",
   "metadata": {},
   "outputs": [],
   "source": []
  }
 ],
 "metadata": {
  "kernelspec": {
   "display_name": "Python 3 (ipykernel)",
   "language": "python",
   "name": "python3"
  },
  "language_info": {
   "codemirror_mode": {
    "name": "ipython",
    "version": 3
   },
   "file_extension": ".py",
   "mimetype": "text/x-python",
   "name": "python",
   "nbconvert_exporter": "python",
   "pygments_lexer": "ipython3",
   "version": "3.9.12"
  }
 },
 "nbformat": 4,
 "nbformat_minor": 5
}
